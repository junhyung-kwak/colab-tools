{
  "nbformat": 4,
  "nbformat_minor": 0,
  "metadata": {
    "colab": {
      "provenance": []
    },
    "kernelspec": {
      "name": "python3",
      "display_name": "Python 3"
    },
    "language_info": {
      "name": "python"
    }
  },
  "cells": [
    {
      "cell_type": "code",
      "execution_count": 3,
      "metadata": {
        "cellView": "form",
        "id": "sDWa2qD-u1t5"
      },
      "outputs": [],
      "source": [
        "#@markdown #Connect to gdrive\n",
        "import os\n",
        "from google.colab import drive\n",
        "if not os.path.exists(\"/content/drive\"):\n",
        "    drive.mount('/content/drive')\n",
        "\n",
        "os.makedirs(\"/content/drive/My Drive/hf_home/\", exist_ok=True)\n",
        "os.makedirs(\"/content/drive/My Drive/pip/\", exist_ok=True)"
      ]
    },
    {
      "cell_type": "code",
      "source": [
        "#@markdown #Write .gdrive_env file\n",
        "%%writefile \"/content/drive/My Drive/.gdrive_env\"\n",
        "HF_HOME=\"/content/drive/My Drive/hf_home/\"\n",
        "PIP_CACHE_DIR=\"/content/drive/My Drive/pip/\""
      ],
      "metadata": {
        "colab": {
          "base_uri": "https://localhost:8080/"
        },
        "id": "Bz7ArpuqvBI0",
        "outputId": "2de7d65e-86e4-4675-ff56-131830749c2d"
      },
      "execution_count": 7,
      "outputs": [
        {
          "output_type": "stream",
          "name": "stdout",
          "text": [
            "Overwriting /content/drive/My Drive/.gdrive_env\n"
          ]
        }
      ]
    },
    {
      "cell_type": "code",
      "source": [
        "#@markdown #Use cache in gdrive\n",
        "!pip install -U python-dotenv\n",
        "import dotenv\n",
        "dotenv.load_dotenv('/content/drive/MyDrive/.gdrive_env')\n",
        "!pip cache dir"
      ],
      "metadata": {
        "colab": {
          "base_uri": "https://localhost:8080/"
        },
        "id": "UgBMGA4UvCpd",
        "outputId": "8041c737-7ca8-4338-c5d6-77f8957f0d06"
      },
      "execution_count": 9,
      "outputs": [
        {
          "output_type": "stream",
          "name": "stdout",
          "text": [
            "Requirement already satisfied: python-dotenv in /usr/local/lib/python3.10/dist-packages (1.0.0)\n",
            "/content/drive/My Drive/pip\n"
          ]
        }
      ]
    }
  ]
}